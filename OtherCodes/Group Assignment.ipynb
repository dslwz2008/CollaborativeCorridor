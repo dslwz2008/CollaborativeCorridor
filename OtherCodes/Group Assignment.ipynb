{
 "cells": [
  {
   "cell_type": "code",
   "execution_count": 3,
   "metadata": {
    "collapsed": true
   },
   "outputs": [],
   "source": [
    "from ztp import ztpoisson\n",
    "import sqlite3\n",
    "import math\n",
    "from collections import Counter\n",
    "import numpy as np"
   ]
  },
  {
   "cell_type": "code",
   "execution_count": 4,
   "metadata": {
    "collapsed": false
   },
   "outputs": [
    {
     "name": "stdout",
     "output_type": "stream",
     "text": [
      "9\n"
     ]
    }
   ],
   "source": [
    "mu = 1.3\n",
    "dbpath = '../WebServer2/participants.db'\n",
    "# 获取总的参与人数\n",
    "sqlGetCount =  'select count(*) from participants'\n",
    "sqlUpdateGroupID = ''\n",
    "con = sqlite3.connect(dbpath)\n",
    "\n",
    "cur = con.cursor()\n",
    "cur.execute(sqlGetCount)\n",
    "record = cur.fetchone()\n",
    "con.close()\n",
    "\n",
    "totalNumber = 9#record[0]\n",
    "print(totalNumber)"
   ]
  },
  {
   "cell_type": "code",
   "execution_count": 5,
   "metadata": {
    "collapsed": false
   },
   "outputs": [
    {
     "name": "stdout",
     "output_type": "stream",
     "text": [
      "[44, 32, 17, 5, 1]\n"
     ]
    }
   ],
   "source": [
    "# 各种size的群组所占百分比，服从ZTP分布\n",
    "groupPercents = [ztpoisson.rvs(mu) for _ in range(100)]\n",
    "# print(groupPercents)\n",
    "c = Counter(groupPercents)\n",
    "results = [tup[1] for tup in c.most_common()][:5]\n",
    "print(results) # 各种size的群组所占百分比，这里没考虑人数"
   ]
  },
  {
   "cell_type": "code",
   "execution_count": 6,
   "metadata": {
    "collapsed": false
   },
   "outputs": [
    {
     "name": "stdout",
     "output_type": "stream",
     "text": [
      "[ 0.23913043  0.34782609  0.27717391  0.10869565  0.02717391]\n",
      "[ 2.  3.  2.  1.  0.]\n"
     ]
    }
   ],
   "source": [
    "# 计算人数\n",
    "peopleActually = [results[i]*(i+1) for i in range(len(results))]\n",
    "peopleActually = np.array(peopleActually)\n",
    "sumPeople = peopleActually.sum() # 需要的总人数\n",
    "peoplePercents = peopleActually/sumPeople # 各组按照人数计算，所占的百分比\n",
    "print(peoplePercents)\n",
    "\n",
    "# 实际人数\n",
    "peopleNumber = np.round(totalNumber*peoplePercents) # 计算各组人数\n",
    "print(peopleNumber)\n",
    "# 计算结果表示，groupsize为index的组有value个人"
   ]
  },
  {
   "cell_type": "code",
   "execution_count": 7,
   "metadata": {
    "collapsed": false
   },
   "outputs": [
    {
     "name": "stdout",
     "output_type": "stream",
     "text": [
      "[0, 1, 2, 3, 2]\n",
      "1\n"
     ]
    }
   ],
   "source": [
    "# reassignment fro each group\n",
    "# 如果一个组分不完的话，或者一个组不够分的话，归还到pool中，分配到其他组；\n",
    "pool = totalNumber - int(sum(peopleNumber))\n",
    "peopleNumber = peopleNumber.astype(int).tolist()\n",
    "peopleNumber.reverse()\n",
    "print(peopleNumber)\n",
    "print(pool)"
   ]
  },
  {
   "cell_type": "code",
   "execution_count": 8,
   "metadata": {
    "collapsed": false
   },
   "outputs": [
    {
     "name": "stdout",
     "output_type": "stream",
     "text": [
      "[2, 2, 1, 0, 0]\n",
      "NO. of people each group: \n",
      "[2, 4, 3, 0, 0]\n",
      "9\n"
     ]
    }
   ],
   "source": [
    "result = []\n",
    "\n",
    "for idx,num in enumerate(peopleNumber):\n",
    "    # get from pool\n",
    "    tempNum = peopleNumber[idx] + pool\n",
    "    groupIdx = len(peopleNumber) - idx\n",
    "    result.append(tempNum // groupIdx)\n",
    "    remains = tempNum % groupIdx\n",
    "    # return to pool\n",
    "    pool = remains\n",
    "    \n",
    "result.reverse()\n",
    "print(result)\n",
    "print('NO. of people each group: ')\n",
    "numInEachGroup = [gno*(idx+1) for idx,gno in enumerate(result)]\n",
    "print(numInEachGroup)\n",
    "print(sum(numInEachGroup))\n",
    "\n",
    "# 把群组配置输入URL：119.23.128.14:9934/reassignGroup?groupConf=2,2,1,0,0"
   ]
  },
  {
   "cell_type": "code",
   "execution_count": 10,
   "metadata": {
    "collapsed": false
   },
   "outputs": [
    {
     "name": "stdout",
     "output_type": "stream",
     "text": [
      "([17, 18, 1, 1, 2, 2, 3, 3, 3], [1, 1, 2, 2, 2, 2, 3, 3, 3], [1, 1, 1, 0, 1, 0, 1, 0, 0])\n"
     ]
    }
   ],
   "source": [
    "def groupFromConfig(groupConf):\n",
    "    numInGroups = [gno * (idx + 1) for idx, gno in enumerate(groupConf)]\n",
    "    groupIDs = []\n",
    "    leaders = []\n",
    "    groupSizes = []\n",
    "    \n",
    "    # 生成单人组，id从17开始，leader都是1\n",
    "    startID = 17\n",
    "    for i in range(numInGroups[0]):\n",
    "        leaders.append(1)\n",
    "        groupSizes.append(1)\n",
    "        groupIDs.append(startID)\n",
    "        startID += 1\n",
    "\n",
    "    # 多人组，id从1开始，每组第一个人是leader\n",
    "    startID = 0\n",
    "    for idx,no in enumerate(numInGroups[1:]):\n",
    "        for i in range(no):\n",
    "            if i % (idx+2) == 0: # 每组第一个人\n",
    "                startID += 1\n",
    "                leaders.append(1)\n",
    "            else:\n",
    "                leaders.append(0)\n",
    "            groupIDs.append(startID)    \n",
    "            groupSizes.append(idx+2)\n",
    "    \n",
    "    return groupIDs,groupSizes,leaders\n",
    "\n",
    "print(groupFromConfig([2, 2, 1, 0]))\n"
   ]
  },
  {
   "cell_type": "code",
   "execution_count": null,
   "metadata": {
    "collapsed": true
   },
   "outputs": [],
   "source": []
  }
 ],
 "metadata": {
  "kernelspec": {
   "display_name": "Python 3",
   "language": "python",
   "name": "python3"
  },
  "language_info": {
   "codemirror_mode": {
    "name": "ipython",
    "version": 3
   },
   "file_extension": ".py",
   "mimetype": "text/x-python",
   "name": "python",
   "nbconvert_exporter": "python",
   "pygments_lexer": "ipython3",
   "version": "3.6.0"
  }
 },
 "nbformat": 4,
 "nbformat_minor": 2
}
