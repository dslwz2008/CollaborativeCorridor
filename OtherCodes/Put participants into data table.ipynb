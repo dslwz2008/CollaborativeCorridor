{
 "cells": [
  {
   "cell_type": "markdown",
   "metadata": {},
   "source": [
    "**Available Time Statistics**"
   ]
  },
  {
   "cell_type": "code",
   "execution_count": 3,
   "metadata": {
    "collapsed": false
   },
   "outputs": [],
   "source": [
    "import sqlite3\n",
    "from collections import Counter"
   ]
  },
  {
   "cell_type": "code",
   "execution_count": 3,
   "metadata": {
    "collapsed": false
   },
   "outputs": [
    {
     "name": "stdout",
     "output_type": "stream",
     "text": [
      "['1', '2', '3']\n"
     ]
    },
    {
     "data": {
      "text/plain": [
       "[('1', 1), ('2', 1), ('3', 1)]"
      ]
     },
     "execution_count": 3,
     "metadata": {},
     "output_type": "execute_result"
    }
   ],
   "source": [
    "dbpath = '../WebServer2/participants.db'\n",
    "# 获取报名者时间情况\n",
    "sqlGetAvailableTime =  'select AvailableTime from questionaire'\n",
    "con = sqlite3.connect(dbpath)\n",
    "cur = con.cursor()\n",
    "cur.execute(sqlGetAvailableTime)\n",
    "records = cur.fetchall()\n",
    "times = []\n",
    "for r in records:\n",
    "    times += (r[0].split(','))\n",
    "con.close()\n",
    "print(times)\n",
    "counter = Counter(times)\n",
    "counter.most_common(10)"
   ]
  },
  {
   "cell_type": "markdown",
   "metadata": {},
   "source": [
    "**Put participants into data table**"
   ]
  },
  {
   "cell_type": "code",
   "execution_count": 4,
   "metadata": {
    "collapsed": false
   },
   "outputs": [
    {
     "name": "stdout",
     "output_type": "stream",
     "text": [
      "[ 2.55165474  2.29831359  2.48757163  2.85476353  2.22258615  2.44924807\n",
      "  1.72355578  2.20694675  2.43805966  2.70386816  2.78016456  2.53049799\n",
      "  2.89980915  2.56336635  2.08522941  2.27548959  2.58780369  2.20031786\n",
      "  1.85566388  2.70449309  2.72635793  2.50562342  2.78912417  2.46735423\n",
      "  3.01244913  2.86831423  2.01179559  2.02738248  2.41518339  2.15459558]\n"
     ]
    }
   ],
   "source": [
    "import numpy as np\n",
    "#下面生成正态分布的初始速度\n",
    "def get_normal_speed(size):\n",
    "    mu, sigma = 1.25, 0.2 # mean and standard deviation\n",
    "    s = np.random.normal(mu, sigma, size)\n",
    "    speed_multiplier = 2\n",
    "    return s*speed_multiplier\n",
    "print(get_normal_speed(30))"
   ]
  },
  {
   "cell_type": "code",
   "execution_count": 5,
   "metadata": {
    "collapsed": false
   },
   "outputs": [],
   "source": [
    "dbpath = '../WebServer2/participants.db'\n",
    "##### 注意修改这里 ！！！！！！\n",
    "time = '1'\n",
    "\n",
    "# 选取字段\n",
    "sqlGetUserInfo =  'select AvailableTime,Username,Gender,Password from questionaire'\n",
    "# 插入表格\n",
    "sqlInsertRecord = 'insert into participants (Username,Password,Gender,Speed) values (?,?,?,?)'\n",
    "con = sqlite3.connect(dbpath)\n",
    "cur = con.cursor()\n",
    "cur.execute(sqlGetUserInfo)\n",
    "records = cur.fetchall()\n",
    "speeds = get_normal_speed(len(records))\n",
    "\n",
    "for idx,rec in enumerate(records):\n",
    "    if time in rec[0].split(','):\n",
    "        username = rec[1]\n",
    "        gender = 0 if rec[2] == 2 else rec[2]\n",
    "        password = rec[3]\n",
    "        cur.execute(sqlInsertRecord,(username,password,gender,speeds[idx]))\n",
    "con.commit()\n",
    "con.close()"
   ]
  },
  {
   "cell_type": "code",
   "execution_count": null,
   "metadata": {
    "collapsed": true
   },
   "outputs": [],
   "source": []
  }
 ],
 "metadata": {
  "kernelspec": {
   "display_name": "Python 3",
   "language": "python",
   "name": "python3"
  },
  "language_info": {
   "codemirror_mode": {
    "name": "ipython",
    "version": 3
   },
   "file_extension": ".py",
   "mimetype": "text/x-python",
   "name": "python",
   "nbconvert_exporter": "python",
   "pygments_lexer": "ipython3",
   "version": "3.6.0"
  }
 },
 "nbformat": 4,
 "nbformat_minor": 2
}
