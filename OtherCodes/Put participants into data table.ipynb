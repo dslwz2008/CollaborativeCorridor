{
 "cells": [
  {
   "cell_type": "markdown",
   "metadata": {},
   "source": [
    "**Available Time Statistics**"
   ]
  },
  {
   "cell_type": "code",
   "execution_count": 1,
   "metadata": {
    "collapsed": false
   },
   "outputs": [],
   "source": [
    "import sqlite3\n",
    "from collections import Counter"
   ]
  },
  {
   "cell_type": "code",
   "execution_count": 3,
   "metadata": {
    "collapsed": false
   },
   "outputs": [
    {
     "name": "stdout",
     "output_type": "stream",
     "text": [
      "['1', '2', '3']\n"
     ]
    },
    {
     "data": {
      "text/plain": [
       "[('1', 1), ('2', 1), ('3', 1)]"
      ]
     },
     "execution_count": 3,
     "metadata": {},
     "output_type": "execute_result"
    }
   ],
   "source": [
    "dbpath = '../WebServer2/participants.db'\n",
    "# 获取报名者时间情况\n",
    "sqlGetAvailableTime =  'select AvailableTime from questionaire'\n",
    "con = sqlite3.connect(dbpath)\n",
    "cur = con.cursor()\n",
    "cur.execute(sqlGetAvailableTime)\n",
    "records = cur.fetchall()\n",
    "times = []\n",
    "for r in records:\n",
    "    times += (r[0].split(','))\n",
    "con.close()\n",
    "print(times)\n",
    "counter = Counter(times)\n",
    "counter.most_common(10)"
   ]
  },
  {
   "cell_type": "markdown",
   "metadata": {},
   "source": [
    "**Put participants into data table**"
   ]
  },
  {
   "cell_type": "code",
   "execution_count": 4,
   "metadata": {
    "collapsed": false
   },
   "outputs": [
    {
     "name": "stdout",
     "output_type": "stream",
     "text": [
      "[  8.37686397   9.21554742   8.50181433   8.55155779   8.46114844\n",
      "   8.40391286   8.26350147   7.74824942   8.78955391   8.54260482\n",
      "   8.82443514   8.34780923   8.44225944   7.72328386   7.64769934\n",
      "   8.79340308   9.19001026   8.49052516   8.10795678   7.49413144\n",
      "   8.48272315   8.5388405    7.95915146   7.61667166   8.92751233\n",
      "   8.33950944   8.68705332  10.52888459   8.96752462   9.29854422]\n"
     ]
    }
   ],
   "source": [
    "import numpy as np\n",
    "#下面生成正态分布的初始速度\n",
    "def get_normal_speed(size):\n",
    "    mu, sigma = 4.17, 0.28 # mean and standard deviation\n",
    "    s = np.random.normal(mu, sigma, size)\n",
    "    speed_multiplier = 2\n",
    "    return s*speed_multiplier\n",
    "print(get_normal_speed(30))"
   ]
  },
  {
   "cell_type": "code",
   "execution_count": 7,
   "metadata": {
    "collapsed": false
   },
   "outputs": [],
   "source": [
    "dbpath = '../WebServer2/participants.db'\n",
    "##### 注意修改这里 ！！！！！！\n",
    "time = '1'\n",
    "\n",
    "# 选取字段\n",
    "sqlGetUserInfo =  'select AvailableTime,Username,Gender,Password from questionaire'\n",
    "# 插入表格\n",
    "sqlInsertRecord = 'insert into participants (Username,Password,Gender,Speed) values (?,?,?,?)'\n",
    "con = sqlite3.connect(dbpath)\n",
    "cur = con.cursor()\n",
    "cur.execute(sqlGetUserInfo)\n",
    "records = cur.fetchall()\n",
    "speeds = get_normal_speed(len(records))\n",
    "\n",
    "for idx,rec in enumerate(records):\n",
    "    if time in rec[0].split(','):\n",
    "        username = rec[1]\n",
    "        gender = 0 if rec[2] == 2 else rec[2]\n",
    "        password = rec[3]\n",
    "        cur.execute(sqlInsertRecord,(username,password,gender,speeds[idx]))\n",
    "con.commit()\n",
    "con.close()"
   ]
  },
  {
   "cell_type": "code",
   "execution_count": null,
   "metadata": {
    "collapsed": true
   },
   "outputs": [],
   "source": []
  }
 ],
 "metadata": {
  "kernelspec": {
   "display_name": "Python 3",
   "language": "python",
   "name": "python3"
  },
  "language_info": {
   "codemirror_mode": {
    "name": "ipython",
    "version": 3
   },
   "file_extension": ".py",
   "mimetype": "text/x-python",
   "name": "python",
   "nbconvert_exporter": "python",
   "pygments_lexer": "ipython3",
   "version": "3.6.0"
  }
 },
 "nbformat": 4,
 "nbformat_minor": 2
}
